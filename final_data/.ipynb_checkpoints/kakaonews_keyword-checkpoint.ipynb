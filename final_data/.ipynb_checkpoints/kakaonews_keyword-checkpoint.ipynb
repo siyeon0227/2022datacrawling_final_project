{
 "cells": [
  {
   "cell_type": "code",
   "execution_count": 1,
   "metadata": {},
   "outputs": [
    {
     "name": "stderr",
     "output_type": "stream",
     "text": [
      "C:\\ProgramData\\Anaconda3\\lib\\site-packages\\pandas\\core\\computation\\expressions.py:20: UserWarning: Pandas requires version '2.7.3' or newer of 'numexpr' (version '2.7.1' currently installed).\n",
      "  from pandas.core.computation.check import NUMEXPR_INSTALLED\n"
     ]
    }
   ],
   "source": [
    "import pandas as pd"
   ]
  },
  {
   "cell_type": "code",
   "execution_count": 2,
   "metadata": {},
   "outputs": [
    {
     "data": {
      "text/html": [
       "<div>\n",
       "<style scoped>\n",
       "    .dataframe tbody tr th:only-of-type {\n",
       "        vertical-align: middle;\n",
       "    }\n",
       "\n",
       "    .dataframe tbody tr th {\n",
       "        vertical-align: top;\n",
       "    }\n",
       "\n",
       "    .dataframe thead th {\n",
       "        text-align: right;\n",
       "    }\n",
       "</style>\n",
       "<table border=\"1\" class=\"dataframe\">\n",
       "  <thead>\n",
       "    <tr style=\"text-align: right;\">\n",
       "      <th></th>\n",
       "      <th>제목</th>\n",
       "      <th>정보제공</th>\n",
       "    </tr>\n",
       "  </thead>\n",
       "  <tbody>\n",
       "    <tr>\n",
       "      <th>0</th>\n",
       "      <td>\\n이쯤되면 살만하지 않아?…카카오를 보는 시선이 달라지고 있다\\n</td>\n",
       "      <td>매일경제</td>\n",
       "    </tr>\n",
       "    <tr>\n",
       "      <th>1</th>\n",
       "      <td>\\n\"네이버·카카오 금융복합기업집단 지정해 리스크 대비해야\"\\n</td>\n",
       "      <td>아시아경제</td>\n",
       "    </tr>\n",
       "    <tr>\n",
       "      <th>2</th>\n",
       "      <td>\\n신한카드, 공인전자문서 중계 서비스 9부 능선…카카오·KT 등과 경쟁\\n</td>\n",
       "      <td>이데일리</td>\n",
       "    </tr>\n",
       "    <tr>\n",
       "      <th>3</th>\n",
       "      <td>\\n네이버·카카오, 간밤 나스닥 반등에 동반 ↑\\n</td>\n",
       "      <td>한국경제</td>\n",
       "    </tr>\n",
       "    <tr>\n",
       "      <th>4</th>\n",
       "      <td>\\n코스피, 美 증시 훈풍에 상승…네이버·카카오 3%대 강세 [개장시황]\\n</td>\n",
       "      <td>이코노미스트</td>\n",
       "    </tr>\n",
       "    <tr>\n",
       "      <th>...</th>\n",
       "      <td>...</td>\n",
       "      <td>...</td>\n",
       "    </tr>\n",
       "    <tr>\n",
       "      <th>5007</th>\n",
       "      <td>\\n아임웹, 유니드컴즈와 제휴 맺고 '카카오싱크 부스터' 도입\\n</td>\n",
       "      <td>매일경제</td>\n",
       "    </tr>\n",
       "    <tr>\n",
       "      <th>5008</th>\n",
       "      <td>\\n번개장터, 카카오T와 손잡고 ‘퀵 서비스’ 도입\\n</td>\n",
       "      <td>이데일리</td>\n",
       "    </tr>\n",
       "    <tr>\n",
       "      <th>5009</th>\n",
       "      <td>\\n\"카카오 '수어 기브티콘'으로 따뜻한 연말 보내세요\"\\n</td>\n",
       "      <td>파이낸셜뉴스</td>\n",
       "    </tr>\n",
       "    <tr>\n",
       "      <th>5010</th>\n",
       "      <td>\\n\"이모티콘 살 때마다 카카오가 건당 1천원씩 기부\"\\n</td>\n",
       "      <td>이데일리</td>\n",
       "    </tr>\n",
       "    <tr>\n",
       "      <th>5011</th>\n",
       "      <td>\\n렌터카에 UAM까지···'슈퍼앱' 입지 굳히는 카카오모빌리티\\n</td>\n",
       "      <td>서울경제</td>\n",
       "    </tr>\n",
       "  </tbody>\n",
       "</table>\n",
       "<p>5012 rows × 2 columns</p>\n",
       "</div>"
      ],
      "text/plain": [
       "                                              제목    정보제공\n",
       "0          \\n이쯤되면 살만하지 않아?…카카오를 보는 시선이 달라지고 있다\\n    매일경제\n",
       "1            \\n\"네이버·카카오 금융복합기업집단 지정해 리스크 대비해야\"\\n   아시아경제\n",
       "2     \\n신한카드, 공인전자문서 중계 서비스 9부 능선…카카오·KT 등과 경쟁\\n    이데일리\n",
       "3                   \\n네이버·카카오, 간밤 나스닥 반등에 동반 ↑\\n    한국경제\n",
       "4     \\n코스피, 美 증시 훈풍에 상승…네이버·카카오 3%대 강세 [개장시황]\\n  이코노미스트\n",
       "...                                          ...     ...\n",
       "5007        \\n아임웹, 유니드컴즈와 제휴 맺고 '카카오싱크 부스터' 도입\\n    매일경제\n",
       "5008              \\n번개장터, 카카오T와 손잡고 ‘퀵 서비스’ 도입\\n    이데일리\n",
       "5009           \\n\"카카오 '수어 기브티콘'으로 따뜻한 연말 보내세요\"\\n  파이낸셜뉴스\n",
       "5010            \\n\"이모티콘 살 때마다 카카오가 건당 1천원씩 기부\"\\n    이데일리\n",
       "5011       \\n렌터카에 UAM까지···'슈퍼앱' 입지 굳히는 카카오모빌리티\\n    서울경제\n",
       "\n",
       "[5012 rows x 2 columns]"
      ]
     },
     "execution_count": 2,
     "metadata": {},
     "output_type": "execute_result"
    }
   ],
   "source": [
    "df=pd.read_csv('카카오_뉴스.csv',encoding=\"cp949\")\n",
    "df=df.drop(['Unnamed: 0','링크','날짜'], axis=1)\n",
    "df"
   ]
  },
  {
   "cell_type": "code",
   "execution_count": 3,
   "metadata": {},
   "outputs": [
    {
     "data": {
      "text/plain": [
       "0               \\n이쯤되면\n",
       "1                 살만하지\n",
       "2             않아?…카카오를\n",
       "3                   보는\n",
       "4                  시선이\n",
       "             ...      \n",
       "34097           \\n렌터카에\n",
       "34098    UAM까지···'슈퍼앱'\n",
       "34099               입지\n",
       "34100              굳히는\n",
       "34101        카카오모빌리티\\n\n",
       "Length: 34102, dtype: object"
      ]
     },
     "execution_count": 3,
     "metadata": {},
     "output_type": "execute_result"
    }
   ],
   "source": [
    "word_list=df['제목'].str.split(' ',expand=False).sum()\n",
    "word_list=pd.Series(word_list)\n",
    "word_list"
   ]
  },
  {
   "cell_type": "code",
   "execution_count": 4,
   "metadata": {},
   "outputs": [
    {
     "data": {
      "text/plain": [
       "\\n카카오,    640\n",
       "카카오       572\n",
       "\\n카카오     526\n",
       "카카오,      186\n",
       "...\\n     133\n",
       "         ... \n",
       "못          29\n",
       "확대\\n       28\n",
       "홍은택        28\n",
       "수          28\n",
       "만든다\\n      28\n",
       "Length: 100, dtype: int64"
      ]
     },
     "execution_count": 4,
     "metadata": {},
     "output_type": "execute_result"
    }
   ],
   "source": [
    "top_100_list=word_list.value_counts().iloc[:100] #빈도가 높은 상위 100개 출력\n",
    "top_100_list"
   ]
  },
  {
   "cell_type": "code",
   "execution_count": 5,
   "metadata": {},
   "outputs": [
    {
     "data": {
      "text/html": [
       "<div>\n",
       "<style scoped>\n",
       "    .dataframe tbody tr th:only-of-type {\n",
       "        vertical-align: middle;\n",
       "    }\n",
       "\n",
       "    .dataframe tbody tr th {\n",
       "        vertical-align: top;\n",
       "    }\n",
       "\n",
       "    .dataframe thead th {\n",
       "        text-align: right;\n",
       "    }\n",
       "</style>\n",
       "<table border=\"1\" class=\"dataframe\">\n",
       "  <thead>\n",
       "    <tr style=\"text-align: right;\">\n",
       "      <th></th>\n",
       "      <th>횟수</th>\n",
       "    </tr>\n",
       "  </thead>\n",
       "  <tbody>\n",
       "    <tr>\n",
       "      <th>\\n카카오,</th>\n",
       "      <td>640</td>\n",
       "    </tr>\n",
       "    <tr>\n",
       "      <th>카카오</th>\n",
       "      <td>572</td>\n",
       "    </tr>\n",
       "    <tr>\n",
       "      <th>\\n카카오</th>\n",
       "      <td>526</td>\n",
       "    </tr>\n",
       "    <tr>\n",
       "      <th>카카오,</th>\n",
       "      <td>186</td>\n",
       "    </tr>\n",
       "    <tr>\n",
       "      <th>...\\n</th>\n",
       "      <td>133</td>\n",
       "    </tr>\n",
       "    <tr>\n",
       "      <th>...</th>\n",
       "      <td>...</td>\n",
       "    </tr>\n",
       "    <tr>\n",
       "      <th>못</th>\n",
       "      <td>29</td>\n",
       "    </tr>\n",
       "    <tr>\n",
       "      <th>확대\\n</th>\n",
       "      <td>28</td>\n",
       "    </tr>\n",
       "    <tr>\n",
       "      <th>홍은택</th>\n",
       "      <td>28</td>\n",
       "    </tr>\n",
       "    <tr>\n",
       "      <th>수</th>\n",
       "      <td>28</td>\n",
       "    </tr>\n",
       "    <tr>\n",
       "      <th>만든다\\n</th>\n",
       "      <td>28</td>\n",
       "    </tr>\n",
       "  </tbody>\n",
       "</table>\n",
       "<p>100 rows × 1 columns</p>\n",
       "</div>"
      ],
      "text/plain": [
       "         횟수\n",
       "\\n카카오,  640\n",
       "카카오     572\n",
       "\\n카카오   526\n",
       "카카오,    186\n",
       "...\\n   133\n",
       "...     ...\n",
       "못        29\n",
       "확대\\n     28\n",
       "홍은택      28\n",
       "수        28\n",
       "만든다\\n    28\n",
       "\n",
       "[100 rows x 1 columns]"
      ]
     },
     "execution_count": 5,
     "metadata": {},
     "output_type": "execute_result"
    }
   ],
   "source": [
    "top_100_list=top_100_list.to_frame()\n",
    "top_100_list.columns=['횟수']\n",
    "top_100_list"
   ]
  },
  {
   "cell_type": "code",
   "execution_count": 6,
   "metadata": {},
   "outputs": [],
   "source": [
    "top_100_list.to_csv('카카오_뉴스_top100_키워드.csv',encoding='cp949')"
   ]
  }
 ],
 "metadata": {
  "kernelspec": {
   "display_name": "Python 3",
   "language": "python",
   "name": "python3"
  },
  "language_info": {
   "codemirror_mode": {
    "name": "ipython",
    "version": 3
   },
   "file_extension": ".py",
   "mimetype": "text/x-python",
   "name": "python",
   "nbconvert_exporter": "python",
   "pygments_lexer": "ipython3",
   "version": "3.8.3"
  }
 },
 "nbformat": 4,
 "nbformat_minor": 4
}
